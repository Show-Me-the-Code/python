{
 "cells": [
  {
   "cell_type": "code",
   "execution_count": 10,
   "metadata": {
    "collapsed": false
   },
   "outputs": [
    {
     "name": "stdout",
     "output_type": "stream",
     "text": [
      "line is:  This module implements specialized container datatypes providing alternatives to Python’s general purpose built-in containers, dict, list, set, and tuple.\n",
      "\n",
      "line.split() is: \n",
      "['This', 'module', 'implements', 'specialized', 'container', 'datatypes', 'providing', 'alternatives', 'to', 'Python\\xe2\\x80\\x99s', 'general', 'purpose', 'built-in', 'containers,', 'dict,', 'list,', 'set,', 'and', 'tuple.']\n",
      " \n",
      "line is:  \n",
      "\n",
      "line.split() is: \n",
      "[]\n",
      " \n",
      "line is:  In addition to the concrete container classes, the collections module provides abstract base classes that can be used to test whether a class provides a particular interface, for example, whether it is hashable or a mapping.\n",
      "\n",
      "line.split() is: \n",
      "['In', 'addition', 'to', 'the', 'concrete', 'container', 'classes,', 'the', 'collections', 'module', 'provides', 'abstract', 'base', 'classes', 'that', 'can', 'be', 'used', 'to', 'test', 'whether', 'a', 'class', 'provides', 'a', 'particular', 'interface,', 'for', 'example,', 'whether', 'it', 'is', 'hashable', 'or', 'a', 'mapping.']\n",
      " \n",
      "line is:  \n",
      "\n",
      "line.split() is: \n",
      "[]\n",
      " \n",
      "line is:  In some ways, the United States has made some progress. Fires no longer destroy 18,000 buildings as they did in the Great Chicago Fire of 1871, or kill half a town of 2,400 people, as they did the same night in Peshtigo, Wisconsin. Other than the Beverly Hill Supper Club fire in Kentucky in 1977, it has been four decades since more than 100 Americans died in a fire.\n",
      "\n",
      "line.split() is: \n",
      "['In', 'some', 'ways,', 'the', 'United', 'States', 'has', 'made', 'some', 'progress.', 'Fires', 'no', 'longer', 'destroy', '18,000', 'buildings', 'as', 'they', 'did', 'in', 'the', 'Great', 'Chicago', 'Fire', 'of', '1871,', 'or', 'kill', 'half', 'a', 'town', 'of', '2,400', 'people,', 'as', 'they', 'did', 'the', 'same', 'night', 'in', 'Peshtigo,', 'Wisconsin.', 'Other', 'than', 'the', 'Beverly', 'Hill', 'Supper', 'Club', 'fire', 'in', 'Kentucky', 'in', '1977,', 'it', 'has', 'been', 'four', 'decades', 'since', 'more', 'than', '100', 'Americans', 'died', 'in', 'a', 'fire.']\n",
      " \n",
      "line is:  \n",
      "\n",
      "line.split() is: \n",
      "[]\n",
      " \n",
      "line is:  But even with such successes, the United States still has one of the worst fire death rates in the world. Safety experts say the problem is neither money nor technology, but the indifference of a country that just will not take fires seriously enough.\n",
      "\n",
      "line.split() is: \n",
      "['But', 'even', 'with', 'such', 'successes,', 'the', 'United', 'States', 'still', 'has', 'one', 'of', 'the', 'worst', 'fire', 'death', 'rates', 'in', 'the', 'world.', 'Safety', 'experts', 'say', 'the', 'problem', 'is', 'neither', 'money', 'nor', 'technology,', 'but', 'the', 'indifference', 'of', 'a', 'country', 'that', 'just', 'will', 'not', 'take', 'fires', 'seriously', 'enough.']\n",
      " \n"
     ]
    }
   ],
   "source": [
    "from collections import Counter\n",
    "#import re\n",
    "\n",
    "word_dict = Counter()\n",
    "#  with will automaticlly close your file\n",
    "with open('text.txt', 'r') as file:\n",
    "    for line in file:\n",
    "        print \"line is: \", line\n",
    "        print \"line.split() is: \\n\", line.split()\n",
    "        print \" \"\n",
    "        word_dict.update(line.split())\n",
    "#word_dict"
   ]
  },
  {
   "cell_type": "code",
   "execution_count": 20,
   "metadata": {
    "collapsed": false
   },
   "outputs": [
    {
     "name": "stdout",
     "output_type": "stream",
     "text": [
      "line is: \n",
      "This module implements specialized container datatypes providing alternatives to Python’s general purpose built-in containers, dict, list, set, and tuple.\n",
      "line.translate(None, string.punctuation) is: \n",
      "['This', 'module', 'implements', 'specialized', 'container', 'datatypes', 'providing', 'alternatives', 'to', 'Python\\xe2\\x80\\x99s', 'general', 'purpose', 'builtin', 'containers', 'dict', 'list', 'set', 'and', 'tuple']\n",
      "line is: \n",
      "\n",
      "line.translate(None, string.punctuation) is: \n",
      "[]\n",
      "line is: \n",
      "In addition to the concrete container classes, the collections module provides abstract base classes that can be used to test whether a class provides a particular interface, for example, whether it is hashable or a mapping.\n",
      "line.translate(None, string.punctuation) is: \n",
      "['In', 'addition', 'to', 'the', 'concrete', 'container', 'classes', 'the', 'collections', 'module', 'provides', 'abstract', 'base', 'classes', 'that', 'can', 'be', 'used', 'to', 'test', 'whether', 'a', 'class', 'provides', 'a', 'particular', 'interface', 'for', 'example', 'whether', 'it', 'is', 'hashable', 'or', 'a', 'mapping']\n",
      "line is: \n",
      "\n",
      "line.translate(None, string.punctuation) is: \n",
      "[]\n",
      "line is: \n",
      "In some ways, the United States has made some progress. Fires no longer destroy 18,000 buildings as they did in the Great Chicago Fire of 1871, or kill half a town of 2,400 people, as they did the same night in Peshtigo, Wisconsin. Other than the Beverly Hill Supper Club fire in Kentucky in 1977, it has been four decades since more than 100 Americans died in a fire.\n",
      "line.translate(None, string.punctuation) is: \n",
      "['In', 'some', 'ways', 'the', 'United', 'States', 'has', 'made', 'some', 'progress', 'Fires', 'no', 'longer', 'destroy', '18000', 'buildings', 'as', 'they', 'did', 'in', 'the', 'Great', 'Chicago', 'Fire', 'of', '1871', 'or', 'kill', 'half', 'a', 'town', 'of', '2400', 'people', 'as', 'they', 'did', 'the', 'same', 'night', 'in', 'Peshtigo', 'Wisconsin', 'Other', 'than', 'the', 'Beverly', 'Hill', 'Supper', 'Club', 'fire', 'in', 'Kentucky', 'in', '1977', 'it', 'has', 'been', 'four', 'decades', 'since', 'more', 'than', '100', 'Americans', 'died', 'in', 'a', 'fire']\n",
      "line is: \n",
      "\n",
      "line.translate(None, string.punctuation) is: \n",
      "[]\n",
      "line is: \n",
      "But even with such successes, the United States still has one of the worst fire death rates in the world. Safety experts say the problem is neither money nor technology, but the indifference of a country that just will not take fires seriously enough.\n",
      "line.translate(None, string.punctuation) is: \n",
      "['But', 'even', 'with', 'such', 'successes', 'the', 'United', 'States', 'still', 'has', 'one', 'of', 'the', 'worst', 'fire', 'death', 'rates', 'in', 'the', 'world', 'Safety', 'experts', 'say', 'the', 'problem', 'is', 'neither', 'money', 'nor', 'technology', 'but', 'the', 'indifference', 'of', 'a', 'country', 'that', 'just', 'will', 'not', 'take', 'fires', 'seriously', 'enough']\n"
     ]
    }
   ],
   "source": [
    "import string\n",
    "with open('text.txt', 'r') as file:\n",
    "    for line in file:\n",
    "        print \"line is: \\n\", line.rstrip()\n",
    "        print \"line.translate(None, string.punctuation) is: \\n\", line.rstrip().translate(None, string.punctuation).split()\n",
    "        #print \"line.split() is: \\n\", line.split()\n",
    "\n",
    "        "
   ]
  },
  {
   "cell_type": "code",
   "execution_count": 40,
   "metadata": {
    "collapsed": false
   },
   "outputs": [
    {
     "name": "stdout",
     "output_type": "stream",
     "text": [
      "this module implements specialized container datatypes providing alternatives to python’s general purpose builtin containers dict list set and tuple\n",
      "in addition to the concrete container classes the collections module provides abstract base classes that can be used to test whether a class provides a particular interface for example whether it is hashable or a mapping\n",
      "in some ways the united states has made some progress fires no longer destroy 18000 buildings as they did in the great chicago fire of 1871 or kill half a town of 2400 people as they did the same night in peshtigo wisconsin other than the beverly hill supper club fire in kentucky in 1977 it has been four decades since more than 100 americans died in a fire\n",
      "but even with such successes the united states still has one of the worst fire death rates in the world safety experts say the problem is neither money nor technology but the indifference of a country that just will not take fires seriously enough\n"
     ]
    }
   ],
   "source": [
    "import string\n",
    "\n",
    "with open('text.txt', 'r') as f:\n",
    "    #i = 0\n",
    "    for line in f.readlines():\n",
    "        if line != \"\\n\":\n",
    "            #print i\n",
    "            print line.strip().translate(None, string.punctuation).lower()\n",
    "            "
   ]
  },
  {
   "cell_type": "code",
   "execution_count": 14,
   "metadata": {
    "collapsed": false
   },
   "outputs": [
    {
     "name": "stdout",
     "output_type": "stream",
     "text": [
      "the number of words in the file is: 172\n"
     ]
    }
   ],
   "source": [
    "%run play4_re.py"
   ]
  },
  {
   "cell_type": "code",
   "execution_count": 27,
   "metadata": {
    "collapsed": false
   },
   "outputs": [
    {
     "name": "stdout",
     "output_type": "stream",
     "text": [
      "<built-in method strip of str object at 0x103e40cb0>\n",
      "<built-in method strip of str object at 0x10069c288>\n",
      "<built-in method strip of str object at 0x10401f240>\n",
      "<built-in method strip of str object at 0x10069c288>\n",
      "<built-in method strip of str object at 0x104028cf0>\n",
      "<built-in method strip of str object at 0x10069c288>\n",
      "<built-in method strip of str object at 0x103fe63a8>\n",
      "<built-in method strip of str object at 0x10069c288>\n"
     ]
    }
   ],
   "source": [
    "i = 0\n",
    "with open('text.txt', 'r') as f:\n",
    "    for line in f.read():\n",
    "        #print line.strip('\\n')\n",
    "        print line\n",
    "        i += 1\n",
    "        print(line.strip('\\n'))"
   ]
  },
  {
   "cell_type": "code",
   "execution_count": 28,
   "metadata": {
    "collapsed": true
   },
   "outputs": [],
   "source": [
    "import fileinput\n",
    "for line in fileinput.FileInput('text.txt',inplace=1):\n",
    "    if line.rstrip():\n",
    "        print line"
   ]
  },
  {
   "cell_type": "code",
   "execution_count": 39,
   "metadata": {
    "collapsed": false
   },
   "outputs": [
    {
     "name": "stdout",
     "output_type": "stream",
     "text": [
      "Counter({'the': 11, 'in': 6, 'a': 6, 'of': 4, 'to': 3, 'has': 3, 'fire': 3, 'United': 2, 'they': 2, 'did': 2, 'some': 2, 'module': 2, 'container': 2, 'provides': 2, 'or': 2, 'is': 2, 'that': 2, 'than': 2, 'whether': 2, 'classes': 2, 'it': 2, 'as': 2, 'States': 2, 'In': 2, 'just': 1, 'money': 1, 'alternatives': 1, 'four': 1, 'kill': 1, 'Hill': 1, 'still': 1, 'death': 1, 'such': 1, 'dict': 1, '2400': 1, 'decades': 1, 'worst': 1, 'half': 1, 'not': 1, 'world': 1, '18000': 1, 'nor': 1, 'list': 1, 'night': 1, 'set': 1, 'people': 1, 'buildings': 1, 'fires': 1, 'even': 1, 'for': 1, 'ways': 1, 'since': 1, 'seriously': 1, 'progress': 1, 'neither': 1, 'be': 1, 'This': 1, 'base': 1, 'interface': 1, '100': 1, 'hashable': 1, 'successes': 1, 'concrete': 1, 'Americans': 1, 'enough': 1, 'one': 1, 'Safety': 1, 'But': 1, '1871': 1, 'addition': 1, 'Python\\xe2\\x80\\x99s': 1, 'been': 1, 'rates': 1, 'Supper': 1, 'collections': 1, 'containers': 1, 'more': 1, 'implements': 1, 'but': 1, 'particular': 1, 'Beverly': 1, 'with': 1, 'town': 1, 'made': 1, 'indifference': 1, 'say': 1, 'will': 1, 'Fires': 1, 'can': 1, 'country': 1, 'problem': 1, 'providing': 1, 'specialized': 1, 'example': 1, 'and': 1, 'Chicago': 1, 'abstract': 1, 'general': 1, 'Other': 1, 'experts': 1, 'technology': 1, 'no': 1, 'Club': 1, 'tuple': 1, 'same': 1, 'builtin': 1, 'take': 1, 'test': 1, 'destroy': 1, 'Great': 1, 'used': 1, 'mapping': 1, 'Kentucky': 1, 'purpose': 1, 'Wisconsin': 1, 'datatypes': 1, 'class': 1, 'died': 1, 'Peshtigo': 1, 'longer': 1, '1977': 1, 'Fire': 1})\n"
     ]
    }
   ],
   "source": [
    "%run play4_counter.py"
   ]
  },
  {
   "cell_type": "code",
   "execution_count": null,
   "metadata": {
    "collapsed": true
   },
   "outputs": [],
   "source": []
  },
  {
   "cell_type": "code",
   "execution_count": null,
   "metadata": {
    "collapsed": true
   },
   "outputs": [],
   "source": []
  }
 ],
 "metadata": {
  "anaconda-cloud": {},
  "kernelspec": {
   "display_name": "Python [Root]",
   "language": "python",
   "name": "Python [Root]"
  },
  "language_info": {
   "codemirror_mode": {
    "name": "ipython",
    "version": 2
   },
   "file_extension": ".py",
   "mimetype": "text/x-python",
   "name": "python",
   "nbconvert_exporter": "python",
   "pygments_lexer": "ipython2",
   "version": "2.7.12"
  }
 },
 "nbformat": 4,
 "nbformat_minor": 0
}
