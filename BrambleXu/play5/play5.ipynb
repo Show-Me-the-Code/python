{
 "cells": [
  {
   "cell_type": "markdown",
   "metadata": {},
   "source": [
    "# 关于分辨率\n",
    "先扫一下盲：http://www.jianshu.com/p/c3387bcc4f6e。\n",
    "\n",
    "我们所说的这个5.2英寸是手机屏幕对角线的长度。\n",
    "\n",
    "分辨率1920px*1080px的意思就是，在这个华为荣耀7的5.2英寸屏幕上，在竖向的高度上有1920个像素块，在横向的宽度上有1080个像素块。\n",
    "\n",
    "我们可以这么理解屏幕像素密度，即在一个对角线长度为1英寸的正方形内所拥有的像素数。\n",
    "# os\n",
    "## os.path.exists\n",
    "[python os.path模块常用方法详解](http://wangwei007.blog.51cto.com/68019/1104940)\n",
    "\n",
    "`os.path.exists(path) `\n",
    "\n",
    "如果path存在，返回True；如果path不存在，返回False。 \n",
    "## Python os.walk的用法与举例\n",
    "[链接](http://blog.csdn.net/bagboy_taobao_com/article/details/8938126)\n",
    "\n",
    "os.walk(top, topdown=True, onerror=None, followlinks=False) \n",
    "\n",
    "可以得到一个三元tupple(dirpath, dirnames, filenames), \n",
    "\n",
    "第一个为起始路径，第二个为起始路径下的文件夹，第三个是起始路径下的文件。\n",
    "\n",
    "dirpath 是一个string，代表目录的路径，\n",
    "\n",
    "dirnames 是一个list，包含了dirpath下所有子目录的名字。\n",
    "\n",
    "filenames 是一个list，包含了非目录文件的名字。\n",
    "\n",
    "这些名字不包含路径信息，如果需要得到全路径，需要使用os.path.join(dirpath, name).\n",
    "\n",
    "## Linux中的绝对路径（Absolute Pathname）与相对路径（Relative Pathnames）\n",
    "\n",
    "\n",
    "绝对路径就是文件的真正存在的路径，是指从硬盘的根目录(盘符)开始，进行一级级目录指向文件。\n",
    "\n",
    "相对路径就是以当前文件为基准进行一级级目录指向被引用的资源文件。"
   ]
  },
  {
   "cell_type": "code",
   "execution_count": 43,
   "metadata": {
    "collapsed": false
   },
   "outputs": [
    {
     "name": "stdout",
     "output_type": "stream",
     "text": [
      "JPEG (100, 62) RGB\n",
      "JPEG (100, 30) RGB\n",
      "Done!\n"
     ]
    }
   ],
   "source": [
    "import os\n",
    "import glob\n",
    "from PIL import Image\n",
    "\n",
    "def thumbnail_pic(path):\n",
    "    a = glob.glob(r'*.jpg')\n",
    "    for x in a:\n",
    "        name = os.path.join(path, x)\n",
    "        im = Image.open(name)\n",
    "        im.thumbnail((1136, 640))\n",
    "        print(im.format, im.size, im.mode)\n",
    "        im.save(name, 'JPEG')\n",
    "    print('Done!')\n",
    "\n",
    "if __name__ == '__main__':\n",
    "    path = '.'\n",
    "    thumbnail_pic(path)"
   ]
  },
  {
   "cell_type": "code",
   "execution_count": 8,
   "metadata": {
    "collapsed": false
   },
   "outputs": [
    {
     "name": "stdout",
     "output_type": "stream",
     "text": [
      "img_lights.jpg\n",
      "anime/anime-girls.jpg\n",
      "anime/Best-Cool-girls.jpg\n",
      "anime/Cool-Anime.jpg\n",
      "test_pic/image-slider2.jpg\n",
      "test_pic/trolltunga.jpg\n"
     ]
    }
   ],
   "source": [
    "import glob\n",
    "\n",
    "for filename in glob.glob('**/*.jpg', recursive=True):\n",
    "    print(filename)"
   ]
  },
  {
   "cell_type": "code",
   "execution_count": 24,
   "metadata": {
    "collapsed": false
   },
   "outputs": [
    {
     "name": "stdout",
     "output_type": "stream",
     "text": [
      "x is \n",
      "  anime/anime-girls.jpg\n",
      "the join path is : \n",
      " ./anime/anime-girls.jpg\n",
      "JPEG (853, 640) RGB\n",
      "JPEG (853, 640) RGB\n",
      "x is \n",
      "  anime/Best-Cool-girls.jpg\n",
      "the join path is : \n",
      " ./anime/Best-Cool-girls.jpg\n",
      "JPEG (620, 349) RGB\n",
      "JPEG (620, 349) RGB\n",
      "x is \n",
      "  anime/Cool-Anime.jpg\n",
      "the join path is : \n",
      " ./anime/Cool-Anime.jpg\n",
      "JPEG (620, 388) RGB\n",
      "JPEG (620, 388) RGB\n",
      "x is \n",
      "  test_pic/image-slider2.jpg\n",
      "the join path is : \n",
      " ./test_pic/image-slider2.jpg\n",
      "JPEG (1000, 500) RGB\n",
      "JPEG (1000, 500) RGB\n",
      "x is \n",
      "  test_pic/img_lights.jpg\n",
      "the join path is : \n",
      " ./test_pic/img_lights.jpg\n",
      "JPEG (600, 400) RGB\n",
      "JPEG (600, 400) RGB\n",
      "x is \n",
      "  test_pic/trolltunga.jpg\n",
      "the join path is : \n",
      " ./test_pic/trolltunga.jpg\n",
      "JPEG (1000, 300) RGB\n",
      "JPEG (1000, 300) RGB\n",
      "Done!\n"
     ]
    }
   ],
   "source": [
    "import os\n",
    "import glob\n",
    "from PIL import Image\n",
    "\n",
    "def thumbnail_pic(path):\n",
    "    for x in glob.glob('**/*.jpg', recursive=True):\n",
    "        print (\"x is \\n \", x)\n",
    "        name = os.path.join(path, x)\n",
    "        print (\"the join path is : \\n\", name)\n",
    "        im = Image.open(name)\n",
    "        print (im.format, im.size, im.mode)\n",
    "        im.copy().thumbnail((1136, 640))\n",
    "        print (im.format, im.size, im.mode)\n",
    "        im.save(\"%s/output/%\"/, 'JPEG')\n",
    "\n",
    "    print('Done!')\n",
    "\n",
    "if __name__ == '__main__':\n",
    "    path = '.'\n",
    "    thumbnail_pic(path)"
   ]
  },
  {
   "cell_type": "markdown",
   "metadata": {},
   "source": [
    "# 两种情况\n",
    "## 把resize的image保存到和原image同一目录下\n",
    "\n",
    "http://pillow.readthedocs.io/en/3.1.x/reference/Image.html#create-thumbnails\n",
    "这个直接通过thumbnail（）这个方法来做到resize。\n",
    "\n",
    "在python3.5中，glob.glob通过**来递归得寻找所有符合.jpg的文件，比起2.7来说确实方便很多。\n",
    "\n",
    "另外为了保存到和原image同一目录下，我们要`os.path.splitext(path) `\n",
    "分离文件名与扩展名；默认返回(fname,fextension)元组，可做分片操作. \n",
    "下面的file，ext里，file用来当做绝对路径，最后用`im.save( file + \".thum.jpg\")`。其中.thum.jpg只是为了方便我们知道哪些文件是重新制作的，也可以直接用'.jpg' \n",
    "\n",
    " "
   ]
  },
  {
   "cell_type": "code",
   "execution_count": 42,
   "metadata": {
    "collapsed": false
   },
   "outputs": [
    {
     "name": "stdout",
     "output_type": "stream",
     "text": [
      "anime/anime-girls\n",
      ".jpg\n",
      "anime/anime-girls.thum\n",
      ".jpg\n",
      "anime/Best-Cool-girls\n",
      ".jpg\n",
      "anime/Best-Cool-girls.thum\n",
      ".jpg\n",
      "anime/Cool-Anime\n",
      ".jpg\n",
      "anime/Cool-Anime.thum\n",
      ".jpg\n",
      "output/anime-girls\n",
      ".jpg\n",
      "output/anime-girls.thum\n",
      ".jpg\n",
      "output/Best-Cool-girls\n",
      ".jpg\n",
      "output/Best-Cool-girls.thum\n",
      ".jpg\n",
      "output/Cool-Anime\n",
      ".jpg\n",
      "output/Cool-Anime.thum\n",
      ".jpg\n",
      "output/image-slider2\n",
      ".jpg\n",
      "output/image-slider2.thum\n",
      ".jpg\n",
      "output/img_lights\n",
      ".jpg\n",
      "output/img_lights.thum\n",
      ".jpg\n",
      "output/trolltunga\n",
      ".jpg\n",
      "output/trolltunga.thum\n",
      ".jpg\n",
      "test_pic/image-slider2\n",
      ".jpg\n",
      "test_pic/image-slider2.thum\n",
      ".jpg\n",
      "test_pic/img_lights\n",
      ".jpg\n",
      "test_pic/img_lights.thum\n",
      ".jpg\n",
      "test_pic/trolltunga\n",
      ".jpg\n",
      "test_pic/trolltunga.thum\n",
      ".jpg\n"
     ]
    }
   ],
   "source": [
    "from PIL import Image\n",
    "import glob, os\n",
    "\n",
    "size = 100, 100\n",
    "\n",
    "for infile in glob.glob(\"**/*.jpg\"):\n",
    "    file, ext = os.path.splitext(infile)\n",
    "    print (file)\n",
    "    print (ext)\n",
    "    im = Image.open(infile)\n",
    "    im.thumbnail(size)\n",
    "    im.save( file + \".thum.jpg\")\n",
    "    #print (im.format, im.size, im.mode)"
   ]
  },
  {
   "cell_type": "markdown",
   "metadata": {},
   "source": [
    "## 把resize的image保存到同一目录下\n",
    "\n",
    "另外为了保存到和原image同一目录下，我们要\n",
    "`os.path.split(path) `\n",
    "\n",
    "将path分割成目录和文件名二元组返回。 \n",
    " ```\n",
    ">>> os.path.split('c:\\\\csv\\\\test.csv') \n",
    "('c:\\\\csv', 'test.csv') \n",
    "```\n",
    "\n",
    "下面的file，ext里，file用来当做绝对路径，最后用`im.save( \"./output/\" + ext)`。其中\"./output/\"使我们指定的文件目录，最后ext是image原始的文件名"
   ]
  },
  {
   "cell_type": "code",
   "execution_count": 41,
   "metadata": {
    "collapsed": false
   },
   "outputs": [
    {
     "name": "stdout",
     "output_type": "stream",
     "text": [
      "anime\n",
      "anime-girls.jpg\n",
      "anime\n",
      "anime-girls.thum.jpg\n",
      "anime\n",
      "Best-Cool-girls.jpg\n",
      "anime\n",
      "Best-Cool-girls.thum.jpg\n",
      "anime\n",
      "Cool-Anime.jpg\n",
      "anime\n",
      "Cool-Anime.thum.jpg\n",
      "test_pic\n",
      "image-slider2.jpg\n",
      "test_pic\n",
      "image-slider2.thum.jpg\n",
      "test_pic\n",
      "img_lights.jpg\n",
      "test_pic\n",
      "img_lights.thum.jpg\n",
      "test_pic\n",
      "trolltunga.jpg\n",
      "test_pic\n",
      "trolltunga.thum.jpg\n"
     ]
    }
   ],
   "source": [
    "from PIL import Image\n",
    "import glob, os\n",
    "\n",
    "size = 100, 100\n",
    "\n",
    "for infile in glob.glob(\"**/*.jpg\"):\n",
    "    file, ext = os.path.split(infile)\n",
    "    print (file)\n",
    "    print (ext)\n",
    "    im = Image.open(infile)\n",
    "    im.thumbnail(size)\n",
    "    im.save( \"./output/\" + ext)\n",
    "    #print (im.format, im.size, im.mode)"
   ]
  },
  {
   "cell_type": "markdown",
   "metadata": {
    "collapsed": true
   },
   "source": [
    "## 运行error\n",
    "\n",
    "```\n",
    "# -*- coding:utf-8 -*-\n",
    "# *第 0005 题：**你有一个目录，装了很多照片，把它们的尺寸变成都不大于 iPhone5 分辨率的大小。\n",
    "\n",
    "from PIL import Image\n",
    "import glob, os\n",
    "\n",
    "size = 100, 100\n",
    "\n",
    "def thumbnail_rel(path):\n",
    "    for infile in glob.glob(\"**/*.jpg\"):\n",
    "        file, ext = os.path.splitext(infile)\n",
    "        # print (file)\n",
    "        # print (ext)\n",
    "        img = Image.open(infile)\n",
    "        img.thumbnail(size)\n",
    "        img.save( file + \".thum.jpg\")\n",
    "        #print (im.format, im.size, im.mode)\n",
    "    print ('Done!')\n",
    "\n",
    "def thumbnail_abs(path):\n",
    "    for infile in glob.glob(\"**/*.jpg\"):\n",
    "        file, ext = os.path.split(infile)\n",
    "        # print (file)\n",
    "        # print (ext)\n",
    "        img = Image.open(infile)\n",
    "        img.thumbnail(size)\n",
    "        img.save( path + '/output/' + ext)\n",
    "        #print (im.format, im.size, im.mode)\n",
    "    print ('Done!')\n",
    "\n",
    "\n",
    "if __name__ == '__main__':\n",
    "    path = '.'\n",
    "    thumbnail_rel(path)\n",
    "    thumbnail_abs(path)\n",
    " \n",
    "```\n",
    "\n",
    "在直接用` python play5.py`的时候，出错了。\n",
    "\n",
    "忘了切换成python3.5的环境。\n",
    "\n",
    "另外我写上了path，另外`img.save( path + file + \".thum.jpg\")`. \n",
    "出错了，把path去掉就好了，`img.save( file + \".thum.jpg\")`\n",
    "\n",
    "因为我在path部分写的是'.', 对于thumbnail_rel, 保存的位置就是`'.anime/XXX`,但是并没有`.anime`这个文件夹，去掉path后直接是anime就可以了。如果anime前面多一个`/`也可以。\n",
    "\n",
    "而对于thumbnail_abs， `./output/XXXX`是能识别的，所以没有报错\n",
    "\n"
   ]
  },
  {
   "cell_type": "code",
   "execution_count": null,
   "metadata": {
    "collapsed": true
   },
   "outputs": [],
   "source": []
  }
 ],
 "metadata": {
  "anaconda-cloud": {},
  "kernelspec": {
   "display_name": "Python [conda env:py35]",
   "language": "python",
   "name": "conda-env-py35-py"
  },
  "language_info": {
   "codemirror_mode": {
    "name": "ipython",
    "version": 3
   },
   "file_extension": ".py",
   "mimetype": "text/x-python",
   "name": "python",
   "nbconvert_exporter": "python",
   "pygments_lexer": "ipython3",
   "version": "3.5.2"
  }
 },
 "nbformat": 4,
 "nbformat_minor": 0
}
