{
 "cells": [
  {
   "cell_type": "code",
   "execution_count": 38,
   "metadata": {
    "collapsed": false
   },
   "outputs": [],
   "source": [
    "#Python 练习册，每天一个小程序\n",
    "#https://github.com/Yixiaohan/show-me-the-code\n",
    "#0000 将你的 QQ 头像（或者微博头像）右上角加上红色的数字，类似于微信未读信息数量那种提示效果。 类似于图中效果\n",
    "from PIL import Image,ImageDraw,ImageFont\n",
    "\n",
    "#add num to image\n",
    "def addnum(image,num):\n",
    "    with Image.open(image) as head:\n",
    "        w,h = head.size\n",
    "        font = ImageFont.truetype('arial.ttf',25)\n",
    "        draw = ImageDraw.Draw(head)\n",
    "        draw.text((0.8*w,0.1*h),str(num),fill=(255,0,0),font=font)\n",
    "        head.save('head2.jpg')\n",
    "\n",
    "if __name__ =='__main__':\n",
    "    addnum('head.jpg',68)"
   ]
  },
  {
   "cell_type": "code",
   "execution_count": 59,
   "metadata": {
    "collapsed": false
   },
   "outputs": [
    {
     "name": "stdout",
     "output_type": "stream",
     "text": [
      "73U60DL2VWXXD1G2DLK8TE9L9YPV57UB\n",
      "5SK7EBKFFK5S2FK0ASXQSLRDKPIY5H2S\n",
      "WZDYOSS2R06MBKVR7TTBGTJT0B5PXP8S\n"
     ]
    }
   ],
   "source": [
    "#第 0001 题： 做为 Apple Store App 独立开发者，你要搞限时促销，为你的应用生成激活\n",
    "#码（或者优惠券），使用 Python 如何生成 200 个激活码（或者优惠券）？\n",
    "from __future__ import print_function\n",
    "import random,sys\n",
    "\n",
    "def activecode(cc,cl):\n",
    "    codechart='0123456789ABCDEFGHIJKLMNOPQRSTUVWXYZ'\n",
    "    for cc in range(0,cc):\n",
    "        s=[random.choice(codechart) for i in range(cl)]\n",
    "        print(''.join(s))\n",
    "\n",
    "        #print x 带有换行和空格\n",
    "        #print x,带有空格\n",
    "        #sys.stdout.write 不带空格和换行\n",
    "        #ys.stdout.write(codechart[i])\n",
    "        #当引入print_function时，可以使用print的参数了\n",
    "        #print(codechart[i],sep='',end='')\n",
    "\n",
    "\n",
    "if __name__ =='__main__':\n",
    "    activecode(3,32)"
   ]
  },
  {
   "cell_type": "code",
   "execution_count": 52,
   "metadata": {
    "collapsed": false
   },
   "outputs": [
    {
     "name": "stdout",
     "output_type": "stream",
     "text": [
      "debd9cb7bdc94ca795d6671294b42fc2\n",
      "9315e2d6-8ae4-4e57-b4a3-dc91c00d828e\n"
     ]
    }
   ],
   "source": [
    "#0001 uuid test\n",
    "import uuid\n",
    "def activecode(cl):\n",
    "    \n",
    "    return str(uuid.uuid4()).replace('-','')[:cl]\n",
    "\n",
    "if __name__ =='__main__':\n",
    "    print(activecode(32))\n",
    "    \n",
    "    print(uuid.uuid4())"
   ]
  },
  {
   "cell_type": "code",
   "execution_count": 63,
   "metadata": {
    "collapsed": false
   },
   "outputs": [
    {
     "name": "stdout",
     "output_type": "stream",
     "text": [
      "abcdefghijklmnopqrstuvwxyzABCDEFGHIJKLMNOPQRSTUVWXYZ\n",
      "0123456789\n",
      "abcdefghijklmnopqrstuvwxyzABCDEFGHIJKLMNOPQRSTUVWXYZ\n"
     ]
    }
   ],
   "source": [
    "import string\n",
    "print(string.letters)\n",
    "print(string.digits)\n",
    "print (string.letters)"
   ]
  },
  {
   "cell_type": "code",
   "execution_count": 35,
   "metadata": {
    "collapsed": false
   },
   "outputs": [],
   "source": [
    "'''\n",
    "第 0002 题: 将 0001 题生成的 200 个激活码（或者优惠券）保存到 MySQL 关系型数据库中。\n",
    "sudo /etc/init.d/mysql start\n",
    "mysql -u root -p\n",
    "create database pymysql_db default charset utf8 collate utf8_general_ci;\n",
    "use pymysql_db\n",
    "CREATE TABLE `activecode` (\n",
    "  `id` int(11) NOT NULL AUTO_INCREMENT,\n",
    "  `activecode` varchar(32) DEFAULT NULL,\n",
    "  PRIMARY KEY (`id`)\n",
    ") ENGINE=InnoDB DEFAULT CHARSET=utf8;\n",
    "pip instll pymysql\n",
    "'''\n",
    "from __future__ import print_function\n",
    "import pymysql\n",
    "import random,sys\n",
    "\n",
    "def activecode(cl):\n",
    "    codechart='0123456789ABCDEFGHIJKLMNOPQRSTUVWXYZ'\n",
    "    s=[random.choice(codechart) for i in range(cl)]\n",
    "    return (''.join(s))\n",
    "\n",
    "def activecodes(cc,cl):\n",
    "    for cc in range(0,cc):\n",
    "        s=activecode(cl)\n",
    "        print(''.join(s))\n",
    "\n",
    "def getcursor():\n",
    "    conn = pymysql.connect(host='192.168.1.3', port=3306, user='root', passwd='root', db='test')\n",
    "    cursor = conn.cursor(cursor=pymysql.cursors.DictCursor)\n",
    "    return conn,cursor\n",
    "\n",
    "def saveactivecode(activecode):\n",
    "    sql=\"insert into activecode(activecode)values('{0}');\".format(activecode)\n",
    "    #print(sql)\n",
    "    cursor.execute(sql)\n",
    "    \n",
    "    \n",
    "if __name__ =='__main__':\n",
    "    conn,cursor = getcursor()\n",
    "    saveactivecode('123')\n",
    "    for i in range(20):\n",
    "        saveactivecode(activecode(32))\n",
    "    conn.commit()\n",
    "    cursor.close()\n",
    "    conn.close()"
   ]
  },
  {
   "cell_type": "code",
   "execution_count": 58,
   "metadata": {
    "collapsed": false
   },
   "outputs": [],
   "source": [
    "'''\n",
    "第 0003 题： 将 0001 题生成的 200 个激活码（或者优惠券）保存到 Redis 非关系型数据库中。\n",
    "sudo apt-get install redis-server\n",
    "redis-server\n",
    "redis-cli\n",
    "进入命令行\n",
    "set name gongqingkui\n",
    "\n",
    "Edit /etc/redis/redis.cnf \n",
    "comment the bind 127.0.0.1\n",
    "'''\n",
    "\n",
    "from __future__ import print_function\n",
    "import redis\n",
    "import random,sys\n",
    "\n",
    "def activecode(cl):\n",
    "    codechart='0123456789ABCDEFGHIJKLMNOPQRSTUVWXYZ'\n",
    "    s=[random.choice(codechart) for i in range(cl)]\n",
    "    return (''.join(s))\n",
    "\n",
    "def activecodes(cc,cl):\n",
    "    for cc in range(0,cc):\n",
    "        s=activecode(cl)\n",
    "        print(''.join(s))\n",
    "\n",
    "def getredis():\n",
    "    r =redis.StrictRedis(host='192.168.1.3',port=6379,db=0)\n",
    "    return r\n",
    "\n",
    "def saveactivecode(key,activecode):\n",
    "    r=getredis()\n",
    "    r.set(key,activecode)\n",
    "\n",
    "    \n",
    "if __name__ =='__main__':\n",
    "    for i in range(20):\n",
    "        saveactivecode(i,activecode(32))"
   ]
  },
  {
   "cell_type": "code",
   "execution_count": 183,
   "metadata": {
    "collapsed": false
   },
   "outputs": [],
   "source": [
    "#0004 riji\n",
    "filename='01.txt'\n",
    "wordarrays=[]\n",
    "worddict={}\n",
    "xucis=['a','an','The','by','the','in','on','from','above','behind','is','and','but','before','oh','well','hi','of']\n",
    "with open(filename) as f:\n",
    "    l = f.readline()\n",
    "    while l:\n",
    "        wordarrays.append(l.split())\n",
    "        l = f.readline()\n",
    "\n",
    "for wordarray in wordarrays:\n",
    "    for word in wordarray:\n",
    "        word = word.lower()\n",
    "        if word in worddict:\n",
    "            worddict[word] = worddict.get(word) + 1\n",
    "        elif word not in worddict:\n",
    "            worddict[word] = 1\n",
    "            \n",
    "\n",
    "for xuci in xucis:\n",
    "    if xuci in worddict:\n",
    "        del worddict[xuci]\n",
    "\n",
    "sortedwordlist = sorted(worddict.items(),lambda x,y:cmp(x[1],y[1]),reverse=True)\n",
    "#print(sortedwordlist)"
   ]
  },
  {
   "cell_type": "code",
   "execution_count": 167,
   "metadata": {
    "collapsed": false
   },
   "outputs": [],
   "source": [
    "#0005 iphone5 image\n",
    "from PIL import Image\n",
    "import os\n",
    "\n",
    "path = \"./image\"\n",
    "trans_path =\"./trans_image\"\n",
    "iphone5size = (1136,640)\n",
    "\n",
    "filelists = os.listdir(path)\n",
    "for f in filelists:\n",
    "    filename = os.path.join(path,f)\n",
    "    try:\n",
    "        im = Image.open(filename)\n",
    "    except IOError:\n",
    "        print (\"error read file\")\n",
    "    thum = im.copy()\n",
    "    thum.thumbnail(iphone5size)\n",
    "    newfilename = trans_path+\"/\"+f\n",
    "    thum.save(newfilename)\n",
    "    im.close()\n",
    "    thum.close()"
   ]
  },
  {
   "cell_type": "code",
   "execution_count": 182,
   "metadata": {
    "collapsed": false
   },
   "outputs": [
    {
     "name": "stdout",
     "output_type": "stream",
     "text": [
      "./monthly_diary\\01.txt ('tesla', 5)\n",
      "./monthly_diary\\02.txt ('command', 12)\n",
      "./monthly_diary\\03.txt ('command', 24)\n",
      "./monthly_diary\\04.txt ('python', 93)\n",
      "./monthly_diary\\09.txt ('python', 164)\n",
      "./monthly_diary\\08.txt ('python', 235)\n",
      "./monthly_diary\\07.txt ('python', 306)\n",
      "./monthly_diary\\06.txt ('python', 377)\n",
      "./monthly_diary\\05.txt ('template', 450)\n",
      "./monthly_diary\\10.txt ('template', 525)\n"
     ]
    }
   ],
   "source": [
    "#0006\n",
    "import os\n",
    "\n",
    "monthlydiary ='./monthly_diary'\n",
    "wordarrays=[]\n",
    "worddict={}\n",
    "xucis=['will','our','if','are','this','there','for','its','be','that','you','we','to','a','an','The','by','the','in','on','from','above','behind','is','and','but','before','oh','well','hi','of']\n",
    "\n",
    "filelists = os.listdir(monthlydiary)\n",
    "for fl in filelists:\n",
    "    filename = os.path.join(monthlydiary,fl)\n",
    "    with open(filename) as f:\n",
    "        l = f.readline()\n",
    "        while l:\n",
    "            wordarrays.append(l.split())\n",
    "            l = f.readline()\n",
    "\n",
    "    for wordarray in wordarrays:\n",
    "        for word in wordarray:\n",
    "            word = word.lower()\n",
    "            if word in worddict:\n",
    "                worddict[word] = worddict.get(word) + 1\n",
    "            elif word not in worddict:\n",
    "                worddict[word] = 1\n",
    "            \n",
    "\n",
    "    for xuci in xucis:\n",
    "        if xuci in worddict:\n",
    "            del worddict[xuci]\n",
    "\n",
    "    sortedwordlist = sorted(worddict.items(),lambda x,y:cmp(x[1],y[1]),reverse=True)\n",
    "    print(filename,sortedwordlist[0])"
   ]
  },
  {
   "cell_type": "code",
   "execution_count": 261,
   "metadata": {
    "collapsed": false
   },
   "outputs": [
    {
     "name": "stdout",
     "output_type": "stream",
     "text": [
      "Total:Code:13626 Comment:1408 Space:3590\n"
     ]
    }
   ],
   "source": [
    "#0007 count the code,commnet,space of dir\n",
    "import os\n",
    "\n",
    "def linehead(c):\n",
    "    if c=='#':\n",
    "        return 0,1,0\n",
    "    elif c=='\\n':\n",
    "        return 0,0,1\n",
    "    else:\n",
    "        return 1,0,0\n",
    "    \n",
    "def count(code,comment,space,c):\n",
    "    a,b,c = linehead(c)\n",
    "    return code + a,comment + b,space + c \n",
    "\n",
    "if __name__ =='__main__':\n",
    "    codepath=\"./downloadcode\"\n",
    "    tcommentcount,tspacecount,tcodecount = 0,0,0\n",
    "    g = os.walk(codepath,topdown=True)\n",
    "    '''root now process\n",
    "        dirs list of flode (not include sub flode)\n",
    "        files list of file\n",
    "    '''\n",
    "    for root,dirs,files in g:\n",
    "        for filename in files:\n",
    "            if os.path.splitext(filename)[1] == '.py':\n",
    "                commentcount,spacecount,codecount = 0,0,0\n",
    "                with open(root+\"/\"+filename) as f:\n",
    "                    l = f.readline()\n",
    "                    while l:\n",
    "                        codecount,commentcount,spacecount = count(codecount,commentcount,spacecount,l[0])\n",
    "                        l = f.readline()\n",
    "                    #print (\"File:%s%s Code:%dSpace:%dComment:%d\"%(root,filename,codecount,spacecount,commentcount))\n",
    "                    tcommentcount = tcommentcount + commentcount\n",
    "                    tspacecount = tspacecount + spacecount\n",
    "                    tcodecount = tcodecount + codecount\n",
    "print(\"Total:Code:%d Comment:%d Space:%d\"%(tcodecount,tcommentcount,tspacecount))"
   ]
  },
  {
   "cell_type": "code",
   "execution_count": 39,
   "metadata": {
    "collapsed": false
   },
   "outputs": [
    {
     "name": "stdout",
     "output_type": "stream",
     "text": [
      "\n",
      "国产P/E级高性能软件与算法库研究集体获2017年度中国科学院杰出科技成就奖\n",
      "文章来源：综合办公室  |  发布时间：2017-12-01  |  【打印】 【关闭】\n",
      "　　\n",
      "\n",
      "            　　软件所“国产P/E级高性能软件与算法库研究集体”荣获2017年度中国科学院杰出科技成就奖！ 　　该研究集体是我国高性能计算领域有重要影响的团队，二十年来始终致力于曙光、联想、神威、天河等系列国产高性能计算机的软件研发。该集体面向高性能计算的重大挑战，在世界最高性能的国产超级计算机上，研制了新一代高性能共性基础算法库，推动了“神威•太湖之光”的多项重大应用；发展了适应于大型异构环境的区域分解算法，实现了“天河2号”HPCG世界排名第一；突破了千万核规模下全隐式求解器设计关键技术，获得了国际高性能计算应用最高奖——美国计算机学会“戈登•贝尔”奖，实现了我国高性能计算领域里程碑式的突破，为我国进入全球超算领跑行列做出了不可替代的贡献。 　　该研究集体包括突出贡献者杨超、孙家昶，主要完成者李玉成、刘芳芳、孙乔、张云泉、吴长茂、赵玉文、张先轶、黎雷生、魏颖、赵海涛、马文静、张佳佳、张娅、赵慧等人。 　　中国科学院杰出科技成就奖于2002年设立，2003年首次颁奖。该奖项由白春礼院长为主任的中国科学院杰出科技成就奖评审委员会严格评审，突出科技创新的原创性、突破性和实际贡献，主要奖励近5年内完成或显示影响的重大成果的完成个人或研究集体，每次授奖总数不超过10个，其中每个获奖研究集体的突出贡献者不超过3人。 颁奖现场\n",
      "\n",
      "\n",
      "\n",
      "附件下载：\n",
      "\n",
      "\n",
      "\n",
      "\n",
      "\n",
      "\n",
      "\n",
      "\n",
      "\n",
      "\n",
      "\n",
      "\n",
      "\n",
      "\t\t\t\t\tvar s = '';\n",
      "\t\t\t\t\tvar c = '';\n",
      "\t\t\t\t\tvar a = document.getElementById(\"appendix\");\n",
      "\t\t\t\t\tif(s.length >0 || c.length >0){\n",
      "\t\t\t\t\t\ta.style.display = '';\n",
      "\t\t\t\t\t}\n",
      "\t\t\t\t\t\n",
      "\n",
      "\n",
      "\n",
      "\n",
      "createPageHTML(1, 0, \"t20171201_4905565\", \"html\");\t\n",
      "\n",
      "\n",
      "\n",
      "\n",
      "\n",
      "window._bd_share_config={\"common\":{\"bdSnsKey\":{},\"bdText\":\"\",\"bdMini\":\"2\",\"bdMiniList\":false,\"bdPic\":\"\",\"bdStyle\":\"1\",\"bdSize\":\"16\"},\"share\":{},\"image\":{\"viewList\":[\"qzone\",\"tsina\",\"tqq\",\"renren\",\"weixin\"],\"viewText\":\"分享到：\",\"viewSize\":\"16\"},\"selectShare\":{\"bdContainerClass\":null,\"bdSelectMiniList\":[\"qzone\",\"tsina\",\"tqq\",\"renren\",\"weixin\"]}};with(document)0[(getElementsByTagName('head')[0]||body).appendChild(createElement('script')).src='http://bdimg.share.baidu.com/static/api/js/share.js?v=89860593.js?cdnversion='+~(-new Date()/36e5)];\n",
      "\n"
     ]
    }
   ],
   "source": [
    "#0008\n",
    "import urllib2\n",
    "from bs4 import BeautifulSoup\n",
    "import re\n",
    "\n",
    "url=\"http://www.iscas.ac.cn/xwdt2016/rdxw2016/201712/t20171201_4905565.html\"\n",
    "\n",
    "def processHTML(html):\n",
    "    soup = BeautifulSoup(html)\n",
    "    for d in soup.find_all(id=\"xlmain\"):\n",
    "        if d.name in ['p','div']:\n",
    "            print(d.text)\n",
    "    \n",
    "if __name__ ==\"__main__\":\n",
    "    html = urllib2.urlopen(url).read()\n",
    "    processHTML(html)"
   ]
  },
  {
   "cell_type": "code",
   "execution_count": 41,
   "metadata": {
    "collapsed": false
   },
   "outputs": [
    {
     "name": "stdout",
     "output_type": "stream",
     "text": [
      "网站地图\n",
      "联系我们\n",
      "所长信箱\n",
      "English\n",
      "中国科学院\n",
      "旧版网站\n",
      "网站地图\n",
      "联系我们\n",
      "所长信箱\n",
      "English\n",
      "中国科学院\n",
      "旧版网站\n",
      "\n",
      "首 页\n",
      "研究所概况\n",
      "本所简介\n",
      "现任领导\n",
      "历任领导\n",
      "学术委员会\n",
      "学位委员会\n",
      "组织机构\n",
      "院士名人\n",
      "历史沿革\n",
      "院所风貌\n",
      "联系我们\n",
      "机构设置\n",
      "科研部门\n",
      "管理部门\n",
      "支撑部门\n",
      "软件所分部\n",
      "科研创新\n",
      "学科方向\n",
      "科研成果\n",
      "获奖\n",
      "专利\n",
      "软件著作权\n",
      "论文\n",
      "专著\n",
      "规章制度\n",
      "成果转化\n",
      "参股企业\n",
      "院地合作\n",
      "国际合作\n",
      "人才队伍\n",
      "院士专家\n",
      "研究员（正高级工程师）\n",
      "副研究员（高级工程师）\n",
      "百人计划\n",
      "杰出青年基金\n",
      "优秀青年基金\n",
      "青年千人计划\n",
      "人才招聘\n",
      "研究生教育\n",
      "招生信息\n",
      "导师信息\n",
      "培养管理\n",
      "学位管理\n",
      "就业指导\n",
      "博士后流动站\n",
      "研究生工作\n",
      "下载区\n",
      "党群文化\n",
      "党委\n",
      "纪委\n",
      "工会\n",
      "党建工作\n",
      "廉政建设\n",
      "青年工作\n",
      "文化活动\n",
      "健康之友\n",
      "离退休生活\n",
      "规章制度\n",
      "形象标识\n",
      "科学传播\n",
      "科普动态\n",
      "科普文章\n",
      "科普场馆\n",
      "科普站点\n",
      "科学图片\n",
      "学术期刊\n",
      "期刊\n",
      "信息公开\n",
      "信息公开规定\n",
      "信息公开指南\n",
      "信息公开目录\n",
      "依申请公开\n",
      "信息公开年度报告\n",
      "信息公开联系方式\n",
      "热点新闻\n",
      "科研进展\n",
      "科技动态\n",
      "通知公告\n",
      "内部公告\n",
      "首页\n",
      "新闻动态\n",
      "热点新闻\n",
      "打印\n",
      "关闭\n",
      "\n",
      "\n",
      "\n",
      "\n",
      "\n",
      "\n",
      "\n",
      "\n",
      "\n",
      "\n"
     ]
    }
   ],
   "source": [
    "#0009\n",
    "import urllib2\n",
    "from bs4 import BeautifulSoup\n",
    "import re\n",
    "\n",
    "url=\"http://www.iscas.ac.cn/xwdt2016/rdxw2016/201712/t20171201_4905565.html\"\n",
    "\n",
    "def processHTML(html):\n",
    "    soup = BeautifulSoup(html)\n",
    "    for d in soup.find_all(\"a\"):\n",
    "        print(d.text)\n",
    "    \n",
    "if __name__ ==\"__main__\":\n",
    "    html = urllib2.urlopen(url).read()\n",
    "    processHTML(html)"
   ]
  },
  {
   "cell_type": "code",
   "execution_count": 71,
   "metadata": {
    "collapsed": false
   },
   "outputs": [],
   "source": [
    "#0010\n",
    "from PIL import Image,ImageDraw,ImageFont,ImageFilter\n",
    "import random\n",
    "\n",
    "def randomchar():\n",
    "    return chr(random.randint(65,90))\n",
    "\n",
    "def randomcolor():\n",
    "    return (random.randint(60,255),random.randint(60,255),random.randint(60,255))\n",
    "\n",
    "def randomcolor2():\n",
    "    return (random.randint(0,255),random.randint(0,200),random.randint(0,200))\n",
    "\n",
    "size = (100,50)\n",
    "#font = ImageFont.truetype('Arial.ttf',30)\n",
    "font = ImageFont.truetype(u'巩庆奎常用汉字2500B.ttf',30)\n",
    "\n",
    "image = Image.new(\"RGB\",size,(255,255,255))\n",
    "draw = ImageDraw.Draw(image)\n",
    "a,b=size\n",
    "\n",
    "for x in range(a):\n",
    "    for y in range(b):\n",
    "        draw.point((x,y),fill=randomcolor())\n",
    "    \n",
    "for i in range(4):\n",
    "    draw.text((a/4*i,b/3),randomchar(),font=font,fill=randomcolor2())\n",
    "\n",
    "image.save('test.jpg')"
   ]
  },
  {
   "cell_type": "code",
   "execution_count": 12,
   "metadata": {
    "collapsed": false
   },
   "outputs": [
    {
     "name": "stdout",
     "output_type": "stream",
     "text": [
      "please input:北京\n",
      "Freedom\n"
     ]
    }
   ],
   "source": [
    "#0011\n",
    "filteredwords=[]\n",
    "\n",
    "with open('filtered_words.txt','r')as f:\n",
    "    #print(f.readlines().encoding('utf8'))\n",
    "    for l in f.readlines():\n",
    "        filteredwords.append(l.strip())\n",
    "\n",
    "#print filteredwords\n",
    "ins = raw_input(\"please input:\")\n",
    "if ins in filteredwords:\n",
    "    print(\"Freedom\")\n",
    "else:\n",
    "    print(\"human rights\")"
   ]
  },
  {
   "cell_type": "code",
   "execution_count": 4,
   "metadata": {
    "collapsed": false
   },
   "outputs": [
    {
     "name": "stdout",
     "output_type": "stream",
     "text": [
      "please input:北京是个\n",
      "*�Ǹ�\n"
     ]
    }
   ],
   "source": [
    "#0012\n",
    "#-*- encoding:utf-8 -*-\n",
    "import string\n",
    "\n",
    "filteredwords=[]\n",
    "\n",
    "with open('filtered_words.txt','r')as f:\n",
    "    #print(f.readlines().encoding('utf8'))\n",
    "    for l in f.readlines():\n",
    "        filteredwords.append(l.strip())\n",
    "\n",
    "#print filteredwords\n",
    "ins = raw_input(\"please input:\")\n",
    "\n",
    "for fw in filteredwords:\n",
    "    if ins.find(fw )!= -1:\n",
    "        ins = ins.replace(fw,\"*\")\n",
    "print(ins)"
   ]
  },
  {
   "cell_type": "code",
   "execution_count": 18,
   "metadata": {
    "collapsed": false
   },
   "outputs": [
    {
     "name": "stdout",
     "output_type": "stream",
     "text": [
      "http://m.tiebaimg.com/timg?wapp&quality=80&size=b150_150&subsize=20480&cut_x=0&cut_w=0&cut_y=0&cut_h=0&sec=1369815402&srctrace&di=77460564b4643999f4c402364b1aaa37&wh_rate=null&src=http%3A%2F%2Fimgsrc.baidu.com%2Fforum%2Fpic%2Fitem%2Ff3d3572c11dfa9ec97ca6b4466d0f703908fc1f8.jpg\n",
      "http://i2.baidu.com/it/u=3861598279,841029041&fm=207&trade=620203\n",
      "http://tb.himg.baidu.com/sys/portrait/item/7560e5a4a9e5b1b1e4ba8ce4bea02400\n",
      "http://imgsrc.baidu.com/forum/abpic/item/dfa98226cffc1e17300a13c24890f603728de989.jpg\n",
      "http://imgsrc.baidu.com/forum/abpic/item/380f4bfbfbedab64aedad233f536afc378311e9d.jpg\n",
      "http://tb.himg.baidu.com/sys/portrait/item/7560e5a4a9e5b1b1e4ba8ce4bea02400\n",
      "http://imgsrc.baidu.com/forum/abpic/item/6a246b600c338744d82a60a4530fd9f9d62aa07f.jpg\n",
      "http://imgsrc.baidu.com/forum/abpic/item/033df8dcd100baa160c408634510b912c9fc2e7a.jpg\n",
      "http://imgsrc.baidu.com/forum/abpic/item/3d44ad345982b2b787e2771c33adcbef77099bed.jpg\n",
      "http://tb2.bdstatic.com/tb/static-pb/img/head_80.jpg\n",
      "http://tb2.bdstatic.com/tb/static-pb/img/head_80.jpg\n",
      "http://imgsrc.baidu.com/forum/abpic/item/3d44ad345982b2b787e2771c33adcbef77099bed.jpg\n",
      "http://tb2.bdstatic.com/tb/static-pb/img/head_80.jpg\n",
      "//tb1.bdstatic.com/tb/cms/nickemoji/1-1.png\n",
      "http://tb2.bdstatic.com/tb/editor/images/face/i_f36.png?t=20140602\n",
      "http://imgsrc.baidu.com/forum/pic/item/c0d218fa828ba61ee2be3a0a4434970a314e59ae.jpg\n"
     ]
    },
    {
     "ename": "HTTPError",
     "evalue": "HTTP Error 500: Internal Server Error",
     "output_type": "error",
     "traceback": [
      "\u001b[0;31m---------------------------------------------------------------------------\u001b[0m",
      "\u001b[0;31mHTTPError\u001b[0m                                 Traceback (most recent call last)",
      "\u001b[0;32m<ipython-input-18-860b406a74c9>\u001b[0m in \u001b[0;36m<module>\u001b[0;34m()\u001b[0m\n\u001b[1;32m     17\u001b[0m         \u001b[0mimgfile\u001b[0m \u001b[1;33m=\u001b[0m \u001b[1;34m'gyy/%s.jpg'\u001b[0m\u001b[1;33m%\u001b[0m\u001b[1;33m(\u001b[0m\u001b[0mtime\u001b[0m\u001b[1;33m.\u001b[0m\u001b[0mtime\u001b[0m\u001b[1;33m(\u001b[0m\u001b[1;33m)\u001b[0m\u001b[1;33m)\u001b[0m\u001b[1;33m\u001b[0m\u001b[0m\n\u001b[1;32m     18\u001b[0m         \u001b[0mpic\u001b[0m \u001b[1;33m=\u001b[0m \u001b[0mopen\u001b[0m\u001b[1;33m(\u001b[0m\u001b[0mimgfile\u001b[0m\u001b[1;33m,\u001b[0m\u001b[1;34m'wb'\u001b[0m\u001b[1;33m)\u001b[0m\u001b[1;33m\u001b[0m\u001b[0m\n\u001b[0;32m---> 19\u001b[0;31m         \u001b[0mpic\u001b[0m\u001b[1;33m.\u001b[0m\u001b[0mwrite\u001b[0m\u001b[1;33m(\u001b[0m\u001b[0murllib2\u001b[0m\u001b[1;33m.\u001b[0m\u001b[0murlopen\u001b[0m\u001b[1;33m(\u001b[0m\u001b[0mpicsrc\u001b[0m\u001b[1;33m)\u001b[0m\u001b[1;33m.\u001b[0m\u001b[0mread\u001b[0m\u001b[1;33m(\u001b[0m\u001b[1;33m)\u001b[0m\u001b[1;33m)\u001b[0m\u001b[1;33m\u001b[0m\u001b[0m\n\u001b[0m\u001b[1;32m     20\u001b[0m         \u001b[0mpic\u001b[0m\u001b[1;33m.\u001b[0m\u001b[0mclose\u001b[0m\u001b[1;33m(\u001b[0m\u001b[1;33m)\u001b[0m\u001b[1;33m\u001b[0m\u001b[0m\n\u001b[1;32m     21\u001b[0m \u001b[1;33m\u001b[0m\u001b[0m\n",
      "\u001b[0;32mD:\\Program Files\\Anaconda2\\lib\\urllib2.pyc\u001b[0m in \u001b[0;36murlopen\u001b[0;34m(url, data, timeout, cafile, capath, cadefault, context)\u001b[0m\n\u001b[1;32m    152\u001b[0m     \u001b[1;32melse\u001b[0m\u001b[1;33m:\u001b[0m\u001b[1;33m\u001b[0m\u001b[0m\n\u001b[1;32m    153\u001b[0m         \u001b[0mopener\u001b[0m \u001b[1;33m=\u001b[0m \u001b[0m_opener\u001b[0m\u001b[1;33m\u001b[0m\u001b[0m\n\u001b[0;32m--> 154\u001b[0;31m     \u001b[1;32mreturn\u001b[0m \u001b[0mopener\u001b[0m\u001b[1;33m.\u001b[0m\u001b[0mopen\u001b[0m\u001b[1;33m(\u001b[0m\u001b[0murl\u001b[0m\u001b[1;33m,\u001b[0m \u001b[0mdata\u001b[0m\u001b[1;33m,\u001b[0m \u001b[0mtimeout\u001b[0m\u001b[1;33m)\u001b[0m\u001b[1;33m\u001b[0m\u001b[0m\n\u001b[0m\u001b[1;32m    155\u001b[0m \u001b[1;33m\u001b[0m\u001b[0m\n\u001b[1;32m    156\u001b[0m \u001b[1;32mdef\u001b[0m \u001b[0minstall_opener\u001b[0m\u001b[1;33m(\u001b[0m\u001b[0mopener\u001b[0m\u001b[1;33m)\u001b[0m\u001b[1;33m:\u001b[0m\u001b[1;33m\u001b[0m\u001b[0m\n",
      "\u001b[0;32mD:\\Program Files\\Anaconda2\\lib\\urllib2.pyc\u001b[0m in \u001b[0;36mopen\u001b[0;34m(self, fullurl, data, timeout)\u001b[0m\n\u001b[1;32m    433\u001b[0m         \u001b[1;32mfor\u001b[0m \u001b[0mprocessor\u001b[0m \u001b[1;32min\u001b[0m \u001b[0mself\u001b[0m\u001b[1;33m.\u001b[0m\u001b[0mprocess_response\u001b[0m\u001b[1;33m.\u001b[0m\u001b[0mget\u001b[0m\u001b[1;33m(\u001b[0m\u001b[0mprotocol\u001b[0m\u001b[1;33m,\u001b[0m \u001b[1;33m[\u001b[0m\u001b[1;33m]\u001b[0m\u001b[1;33m)\u001b[0m\u001b[1;33m:\u001b[0m\u001b[1;33m\u001b[0m\u001b[0m\n\u001b[1;32m    434\u001b[0m             \u001b[0mmeth\u001b[0m \u001b[1;33m=\u001b[0m \u001b[0mgetattr\u001b[0m\u001b[1;33m(\u001b[0m\u001b[0mprocessor\u001b[0m\u001b[1;33m,\u001b[0m \u001b[0mmeth_name\u001b[0m\u001b[1;33m)\u001b[0m\u001b[1;33m\u001b[0m\u001b[0m\n\u001b[0;32m--> 435\u001b[0;31m             \u001b[0mresponse\u001b[0m \u001b[1;33m=\u001b[0m \u001b[0mmeth\u001b[0m\u001b[1;33m(\u001b[0m\u001b[0mreq\u001b[0m\u001b[1;33m,\u001b[0m \u001b[0mresponse\u001b[0m\u001b[1;33m)\u001b[0m\u001b[1;33m\u001b[0m\u001b[0m\n\u001b[0m\u001b[1;32m    436\u001b[0m \u001b[1;33m\u001b[0m\u001b[0m\n\u001b[1;32m    437\u001b[0m         \u001b[1;32mreturn\u001b[0m \u001b[0mresponse\u001b[0m\u001b[1;33m\u001b[0m\u001b[0m\n",
      "\u001b[0;32mD:\\Program Files\\Anaconda2\\lib\\urllib2.pyc\u001b[0m in \u001b[0;36mhttp_response\u001b[0;34m(self, request, response)\u001b[0m\n\u001b[1;32m    546\u001b[0m         \u001b[1;32mif\u001b[0m \u001b[1;32mnot\u001b[0m \u001b[1;33m(\u001b[0m\u001b[1;36m200\u001b[0m \u001b[1;33m<=\u001b[0m \u001b[0mcode\u001b[0m \u001b[1;33m<\u001b[0m \u001b[1;36m300\u001b[0m\u001b[1;33m)\u001b[0m\u001b[1;33m:\u001b[0m\u001b[1;33m\u001b[0m\u001b[0m\n\u001b[1;32m    547\u001b[0m             response = self.parent.error(\n\u001b[0;32m--> 548\u001b[0;31m                 'http', request, response, code, msg, hdrs)\n\u001b[0m\u001b[1;32m    549\u001b[0m \u001b[1;33m\u001b[0m\u001b[0m\n\u001b[1;32m    550\u001b[0m         \u001b[1;32mreturn\u001b[0m \u001b[0mresponse\u001b[0m\u001b[1;33m\u001b[0m\u001b[0m\n",
      "\u001b[0;32mD:\\Program Files\\Anaconda2\\lib\\urllib2.pyc\u001b[0m in \u001b[0;36merror\u001b[0;34m(self, proto, *args)\u001b[0m\n\u001b[1;32m    471\u001b[0m         \u001b[1;32mif\u001b[0m \u001b[0mhttp_err\u001b[0m\u001b[1;33m:\u001b[0m\u001b[1;33m\u001b[0m\u001b[0m\n\u001b[1;32m    472\u001b[0m             \u001b[0margs\u001b[0m \u001b[1;33m=\u001b[0m \u001b[1;33m(\u001b[0m\u001b[0mdict\u001b[0m\u001b[1;33m,\u001b[0m \u001b[1;34m'default'\u001b[0m\u001b[1;33m,\u001b[0m \u001b[1;34m'http_error_default'\u001b[0m\u001b[1;33m)\u001b[0m \u001b[1;33m+\u001b[0m \u001b[0morig_args\u001b[0m\u001b[1;33m\u001b[0m\u001b[0m\n\u001b[0;32m--> 473\u001b[0;31m             \u001b[1;32mreturn\u001b[0m \u001b[0mself\u001b[0m\u001b[1;33m.\u001b[0m\u001b[0m_call_chain\u001b[0m\u001b[1;33m(\u001b[0m\u001b[1;33m*\u001b[0m\u001b[0margs\u001b[0m\u001b[1;33m)\u001b[0m\u001b[1;33m\u001b[0m\u001b[0m\n\u001b[0m\u001b[1;32m    474\u001b[0m \u001b[1;33m\u001b[0m\u001b[0m\n\u001b[1;32m    475\u001b[0m \u001b[1;31m# XXX probably also want an abstract factory that knows when it makes\u001b[0m\u001b[1;33m\u001b[0m\u001b[1;33m\u001b[0m\u001b[0m\n",
      "\u001b[0;32mD:\\Program Files\\Anaconda2\\lib\\urllib2.pyc\u001b[0m in \u001b[0;36m_call_chain\u001b[0;34m(self, chain, kind, meth_name, *args)\u001b[0m\n\u001b[1;32m    405\u001b[0m             \u001b[0mfunc\u001b[0m \u001b[1;33m=\u001b[0m \u001b[0mgetattr\u001b[0m\u001b[1;33m(\u001b[0m\u001b[0mhandler\u001b[0m\u001b[1;33m,\u001b[0m \u001b[0mmeth_name\u001b[0m\u001b[1;33m)\u001b[0m\u001b[1;33m\u001b[0m\u001b[0m\n\u001b[1;32m    406\u001b[0m \u001b[1;33m\u001b[0m\u001b[0m\n\u001b[0;32m--> 407\u001b[0;31m             \u001b[0mresult\u001b[0m \u001b[1;33m=\u001b[0m \u001b[0mfunc\u001b[0m\u001b[1;33m(\u001b[0m\u001b[1;33m*\u001b[0m\u001b[0margs\u001b[0m\u001b[1;33m)\u001b[0m\u001b[1;33m\u001b[0m\u001b[0m\n\u001b[0m\u001b[1;32m    408\u001b[0m             \u001b[1;32mif\u001b[0m \u001b[0mresult\u001b[0m \u001b[1;32mis\u001b[0m \u001b[1;32mnot\u001b[0m \u001b[0mNone\u001b[0m\u001b[1;33m:\u001b[0m\u001b[1;33m\u001b[0m\u001b[0m\n\u001b[1;32m    409\u001b[0m                 \u001b[1;32mreturn\u001b[0m \u001b[0mresult\u001b[0m\u001b[1;33m\u001b[0m\u001b[0m\n",
      "\u001b[0;32mD:\\Program Files\\Anaconda2\\lib\\urllib2.pyc\u001b[0m in \u001b[0;36mhttp_error_default\u001b[0;34m(self, req, fp, code, msg, hdrs)\u001b[0m\n\u001b[1;32m    554\u001b[0m \u001b[1;32mclass\u001b[0m \u001b[0mHTTPDefaultErrorHandler\u001b[0m\u001b[1;33m(\u001b[0m\u001b[0mBaseHandler\u001b[0m\u001b[1;33m)\u001b[0m\u001b[1;33m:\u001b[0m\u001b[1;33m\u001b[0m\u001b[0m\n\u001b[1;32m    555\u001b[0m     \u001b[1;32mdef\u001b[0m \u001b[0mhttp_error_default\u001b[0m\u001b[1;33m(\u001b[0m\u001b[0mself\u001b[0m\u001b[1;33m,\u001b[0m \u001b[0mreq\u001b[0m\u001b[1;33m,\u001b[0m \u001b[0mfp\u001b[0m\u001b[1;33m,\u001b[0m \u001b[0mcode\u001b[0m\u001b[1;33m,\u001b[0m \u001b[0mmsg\u001b[0m\u001b[1;33m,\u001b[0m \u001b[0mhdrs\u001b[0m\u001b[1;33m)\u001b[0m\u001b[1;33m:\u001b[0m\u001b[1;33m\u001b[0m\u001b[0m\n\u001b[0;32m--> 556\u001b[0;31m         \u001b[1;32mraise\u001b[0m \u001b[0mHTTPError\u001b[0m\u001b[1;33m(\u001b[0m\u001b[0mreq\u001b[0m\u001b[1;33m.\u001b[0m\u001b[0mget_full_url\u001b[0m\u001b[1;33m(\u001b[0m\u001b[1;33m)\u001b[0m\u001b[1;33m,\u001b[0m \u001b[0mcode\u001b[0m\u001b[1;33m,\u001b[0m \u001b[0mmsg\u001b[0m\u001b[1;33m,\u001b[0m \u001b[0mhdrs\u001b[0m\u001b[1;33m,\u001b[0m \u001b[0mfp\u001b[0m\u001b[1;33m)\u001b[0m\u001b[1;33m\u001b[0m\u001b[0m\n\u001b[0m\u001b[1;32m    557\u001b[0m \u001b[1;33m\u001b[0m\u001b[0m\n\u001b[1;32m    558\u001b[0m \u001b[1;32mclass\u001b[0m \u001b[0mHTTPRedirectHandler\u001b[0m\u001b[1;33m(\u001b[0m\u001b[0mBaseHandler\u001b[0m\u001b[1;33m)\u001b[0m\u001b[1;33m:\u001b[0m\u001b[1;33m\u001b[0m\u001b[0m\n",
      "\u001b[0;31mHTTPError\u001b[0m: HTTP Error 500: Internal Server Error"
     ]
    }
   ],
   "source": [
    "#0013\n",
    "#coding=utf-8\n",
    "\n",
    "import urllib2\n",
    "import time\n",
    "from bs4 import BeautifulSoup\n",
    "\n",
    "header = {'User-Agent':'Mozilla/5.0 (Macintosh; Intel Mac OS X 10.7; rv:8.0.1) Gecko/20100101 Firefox/8.0.1'}\n",
    "url='http://tieba.baidu.com/p/3055145055#!/l/p1'\n",
    "req = urllib2.Request(url,None,header)\n",
    "site = urllib2.urlopen(req)\n",
    "soup = BeautifulSoup(site.read())\n",
    "for img in soup.find_all('img'):\n",
    "    picsrc = img.get('src')\n",
    "    #print picsrc\n",
    "    if picsrc != None and picsrc.find('http') != -1:\n",
    "        imgfile = 'gyy/%s.jpg'%(time.time())\n",
    "        pic = open(imgfile,'wb')\n",
    "        pic.write(urllib2.urlopen(picsrc).read())\n",
    "        pic.close()\n",
    "        "
   ]
  },
  {
   "cell_type": "code",
   "execution_count": 47,
   "metadata": {
    "collapsed": false
   },
   "outputs": [],
   "source": [
    "#0014\n",
    "#encoding=utf-8\n",
    "import json\n",
    "import xlwt\n",
    "\n",
    "f = file('student.txt')\n",
    "data = json.load(f,encoding='gb2312')\n",
    "#print(json.dumps(data))\n",
    "\n",
    "wb = xlwt.Workbook()\n",
    "ws = wb.add_sheet('student')\n",
    "\n",
    "i=j=0\n",
    "for item in data:\n",
    "    ws.write(i,j,item)\n",
    "    for item2 in data[item]:\n",
    "        j = j + 1\n",
    "        ws.write(i,j,item2)    \n",
    "    i = i+1\n",
    "    j = 0\n",
    "wb.save('student.xls')"
   ]
  },
  {
   "cell_type": "code",
   "execution_count": 3,
   "metadata": {
    "collapsed": false
   },
   "outputs": [],
   "source": [
    "#0015\n",
    "#encoding=utf-8\n",
    "import json\n",
    "import xlwt\n",
    "\n",
    "f = file('city.txt')\n",
    "data = json.load(f,encoding='gb2312')\n",
    "\n",
    "wb = xlwt.Workbook()\n",
    "ws = wb.add_sheet('city')\n",
    "\n",
    "i=j=0\n",
    "for item in data:\n",
    "    ws.write(i,j,item)\n",
    "    ws.write(i,1,data[item])    \n",
    "    i = i+1\n",
    "wb.save('city.xls')"
   ]
  },
  {
   "cell_type": "code",
   "execution_count": 17,
   "metadata": {
    "collapsed": false
   },
   "outputs": [],
   "source": [
    "#0016\n",
    "import xlwt\n",
    "\n",
    "wb = xlwt.Workbook()\n",
    "ws = wb.add_sheet('numbers')\n",
    "with open('numbers.txt') as f:\n",
    "    _numbers = eval(f.read())\n",
    "i=j=0\n",
    "for num in range(len(_numbers)):\n",
    "    for n in _numbers[i]:\n",
    "        ws.write(i,j,n)\n",
    "        j = j+1\n",
    "    i = i + 1\n",
    "    j = 0\n",
    "wb.save('numbers.xls')"
   ]
  },
  {
   "cell_type": "code",
   "execution_count": 31,
   "metadata": {
    "collapsed": false
   },
   "outputs": [],
   "source": [
    "##0017\n",
    "import chardet\n",
    "from xml.etree.ElementTree import Element,SubElement,Comment,tostring\n",
    "import pprint\n",
    "\n",
    "def readXLS(filename):\n",
    "    import xlrd\n",
    "    \n",
    "    data = xlrd.open_workbook(filename,encoding_override='cp1252')\n",
    "    table = data.sheet_by_name('student')\n",
    "    s=''\n",
    "    for row in range(table.nrows):\n",
    "        s = s + '''\"%s\":[\"%s\",%d,%d,%d],'''%(table.cell(row,0).value,table.cell(row,1).value,\\\n",
    "                                             table.cell(row,2).value,table.cell(row,3).value,table.cell(row,4).value)\n",
    "        \n",
    "    return s[:-1]\n",
    "\n",
    "\n",
    "root = Element('root')\n",
    "comment = Comment(u'学生信息表\\n\"id\":[名字，数学，语文，英语]')\n",
    "root.append(comment)\n",
    "child = SubElement(root,'students')\n",
    "child.text = readXLS('student.xls')\n",
    "fw = open('student.xml','w')\n",
    "fw.write(tostring(root,encoding='utf-8',method='xml'))\n",
    "#fw.write(tostring(root,encoding='utf-8',method='html'))\n",
    "#fw.write(tostring(root,encoding='utf-8',method='text'))\n",
    "fw.close()"
   ]
  },
  {
   "cell_type": "code",
   "execution_count": 54,
   "metadata": {
    "collapsed": true
   },
   "outputs": [],
   "source": [
    "##0018\n",
    "import chardet\n",
    "from xml.etree.ElementTree import Element,SubElement,Comment,tostring\n",
    "import pprint\n",
    "\n",
    "def readXLS(filename):\n",
    "    import xlrd\n",
    "    \n",
    "    data = xlrd.open_workbook(filename,encoding_override='cp1252')\n",
    "    table = data.sheet_by_name('city')\n",
    "    s=''\n",
    "    for row in range(table.nrows):\n",
    "        s = s + '''\"%s\":\"%s\",'''%(table.cell(row,0).value,table.cell(row,1).value)\n",
    "        \n",
    "    return s[:-1]\n",
    "\n",
    "\n",
    "root = Element('root')\n",
    "comment = Comment(u'城市信息')\n",
    "root.append(comment)\n",
    "child = SubElement(root,'cities')\n",
    "child.text = readXLS('city.xls')\n",
    "fw = open('city.xml','w')\n",
    "fw.write(tostring(root,encoding='utf-8',method='xml'))\n",
    "#fw.write(tostring(root,encoding='utf-8',method='html'))\n",
    "#fw.write(tostring(root,encoding='utf-8',method='text'))\n",
    "fw.close()\n"
   ]
  },
  {
   "cell_type": "code",
   "execution_count": 58,
   "metadata": {
    "collapsed": true
   },
   "outputs": [],
   "source": [
    "##0019\n",
    "import chardet\n",
    "from xml.etree.ElementTree import Element,SubElement,Comment,tostring\n",
    "import pprint\n",
    "\n",
    "def readXLS(filename):\n",
    "    import xlrd\n",
    "    \n",
    "    data = xlrd.open_workbook(filename,encoding_override='cp1252')\n",
    "    table = data.sheet_by_name('numbers')\n",
    "    s='['\n",
    "    for row in range(table.nrows):\n",
    "        s = s + '''[%d,%d,%d],'''%(table.cell(row,0).value,table.cell(row,1).value,table.cell(row,2).value)\n",
    "        \n",
    "    return s[:-1]+']'\n",
    "\n",
    "\n",
    "root = Element('root')\n",
    "comment = Comment(u'数字信息')\n",
    "root.append(comment)\n",
    "child = SubElement(root,'numbers')\n",
    "child.text = readXLS('numbers.xls')\n",
    "fw = open('numbers.xml','w')\n",
    "fw.write(tostring(root,encoding='utf-8',method='xml'))\n",
    "#fw.write(tostring(root,encoding='utf-8',method='html'))\n",
    "#fw.write(tostring(root,encoding='utf-8',method='text'))\n",
    "fw.close()\n"
   ]
  },
  {
   "cell_type": "code",
   "execution_count": 120,
   "metadata": {
    "collapsed": false
   },
   "outputs": [
    {
     "name": "stdout",
     "output_type": "stream",
     "text": [
      "total seconds:3968\n"
     ]
    }
   ],
   "source": [
    "#0020\n",
    "#encoding=utf-8\n",
    "import xlrd\n",
    "import chardet\n",
    "import string\n",
    "\n",
    "def timeParse(timestr):\n",
    "    ind = timestr.find('\\xb7\\xd6')\n",
    "    #print(ind)\n",
    "    if ind is not -1:\n",
    "        #print(ind)\n",
    "        _time = int(timestr[:ind])*60+timeParse(timestr[ind+2:])\n",
    "    else:\n",
    "        _time = eval(timestr[:-2])\n",
    "    return _time\n",
    "\n",
    "data = xlrd.open_workbook('mobile0632.xls',encoding_override='utf-8')\n",
    "table = data.sheet_by_name('201801')\n",
    "total = 0\n",
    "for row in range(table.nrows):\n",
    "    total = total + timeParse(table.cell(row,4).value.encode('gb2312'))\n",
    "    #s.append(table.cell(row,4).value.encode('gb2312'))\n",
    "print(\"total seconds:%d\"%total)"
   ]
  },
  {
   "cell_type": "code",
   "execution_count": 1,
   "metadata": {
    "collapsed": false
   },
   "outputs": [
    {
     "name": "stdout",
     "output_type": "stream",
     "text": [
      "[u'1', u'\\u5f20\\u4e09', 150.0, 120.0, 100.0]\n",
      "[u'1', u'3', u'2']\n",
      "(3, 5)\n",
      "(u'1', 150.0)\n"
     ]
    }
   ],
   "source": [
    "import xlrd\n",
    "\n",
    "data = xlrd.open_workbook('student.xls')\n",
    "#table = data.sheets()[0]\n",
    "table = data.sheet_by_name(u'student')\n",
    "print(table.row_values(0))\n",
    "print(table.col_values(0))\n",
    "print(table.nrows,table.ncols)\n",
    "print(table.cell(0,0).value,table.row(0)[2].value)\n",
    "table.put_cell(4,6,1,'aaa',0)\n",
    "\n"
   ]
  },
  {
   "cell_type": "code",
   "execution_count": 38,
   "metadata": {
    "collapsed": false
   },
   "outputs": [
    {
     "name": "stdout",
     "output_type": "stream",
     "text": [
      "True\n"
     ]
    }
   ],
   "source": [
    "#0021\n",
    "import uuid\n",
    "import hashlib\n",
    "\n",
    "def enpass(password,salt=None):\n",
    "    if salt is None:\n",
    "        salt = str(uuid.uuid4())[:4]        \n",
    "    assert 4==len(salt)\n",
    "    return salt+':'+hashlib.sha256(password.encode()+salt.encode()).hexdigest()\n",
    "\n",
    "def ckpass(password,enedpass):\n",
    "    return enpass(password,enedpass[:4]) == enedpass\n",
    "\n",
    "if __name__ =='__main__':\n",
    "    passfile = 'password.txt'\n",
    "    enedpass = enpass('12345')\n",
    "    with open(passfile,'w')as f:\n",
    "        f.write(enedpass)\n",
    "    f.close()\n",
    "\n",
    "    with open(passfile,'r')as f:\n",
    "        print(ckpass('12345',f.read()))\n",
    "    f.close()"
   ]
  },
  {
   "cell_type": "code",
   "execution_count": 219,
   "metadata": {
    "collapsed": false
   },
   "outputs": [],
   "source": [
    "#0022 iphone5 image\n",
    "from PIL import Image\n",
    "import os\n",
    "\n",
    "path = \"./image\"\n",
    "trans_path =\"./trans_image\"\n",
    "iphonesize = {\"iphone5\":(640,1136),\"iphone6s\":(1125,2000),\"iphone6sp\":(1242,2208)}\n",
    "\n",
    "\n",
    "filelists = os.listdir(path)\n",
    "for f in filelists:\n",
    "    filename = os.path.join(path,f)\n",
    "    try:\n",
    "        im = Image.open(filename)\n",
    "    except IOError:\n",
    "        print (\"error read file\")\n",
    "        \n",
    "    for phonetype in iphonesize.keys():\n",
    "        thum = im.copy()\n",
    "        thum.thumbnail(iphonesize[phonetype])\n",
    "        newfilename = trans_path+\"/\"+phonetype+\"_\"+f\n",
    "        thum.save(newfilename)\n",
    "        thum.close()\n",
    "        \n",
    "im.close()"
   ]
  },
  {
   "cell_type": "code",
   "execution_count": null,
   "metadata": {
    "collapsed": false
   },
   "outputs": [
    {
     "name": "stderr",
     "output_type": "stream",
     "text": [
      " * Running on http://127.0.0.1:5000/ (Press CTRL+C to quit)\n",
      "127.0.0.1 - - [08/Feb/2018 17:23:41] \"GET / HTTP/1.1\" 200 -\n",
      "127.0.0.1 - - [08/Feb/2018 17:23:42] \"GET /favicon.ico HTTP/1.1\" 404 -\n",
      "127.0.0.1 - - [08/Feb/2018 17:25:58] \"GET / HTTP/1.1\" 200 -\n",
      "127.0.0.1 - - [08/Feb/2018 17:26:04] \"GET / HTTP/1.1\" 200 -\n",
      "127.0.0.1 - - [08/Feb/2018 17:39:19] \"GET / HTTP/1.1\" 200 -\n",
      "127.0.0.1 - - [08/Feb/2018 17:39:23] \"GET / HTTP/1.1\" 200 -\n"
     ]
    }
   ],
   "source": [
    "from flask import Flask\n",
    "app = Flask(__name__)\n",
    "\n",
    "@app.route('/')\n",
    "def hello():\n",
    "    return \"hello world!\"\n",
    "\n",
    "if __name__ =='__main__':\n",
    "    app.run()"
   ]
  },
  {
   "cell_type": "code",
   "execution_count": 27,
   "metadata": {
    "collapsed": false
   },
   "outputs": [
    {
     "ename": "UnicodeDecodeError",
     "evalue": "'ascii' codec can't decode byte 0xe7 in position 0: ordinal not in range(128)",
     "output_type": "error",
     "traceback": [
      "\u001b[0;31m---------------------------------------------------------------------------\u001b[0m",
      "\u001b[0;31mUnicodeDecodeError\u001b[0m                        Traceback (most recent call last)",
      "\u001b[0;32m<ipython-input-27-1f5a0fff0bd5>\u001b[0m in \u001b[0;36m<module>\u001b[0;34m()\u001b[0m\n\u001b[0;32m----> 1\u001b[0;31m \u001b[1;32mif\u001b[0m \u001b[1;34m'百度'\u001b[0m\u001b[1;32min\u001b[0m \u001b[1;34mu'百度是个网站'\u001b[0m\u001b[1;33m:\u001b[0m\u001b[1;33m\u001b[0m\u001b[0m\n\u001b[0m\u001b[1;32m      2\u001b[0m     \u001b[1;32mprint\u001b[0m \u001b[1;34m'a'\u001b[0m\u001b[1;33m\u001b[0m\u001b[0m\n",
      "\u001b[0;31mUnicodeDecodeError\u001b[0m: 'ascii' codec can't decode byte 0xe7 in position 0: ordinal not in range(128)"
     ]
    }
   ],
   "source": [
    "if '百度'in u'百度是个网站':\n",
    "    print 'a'"
   ]
  },
  {
   "cell_type": "code",
   "execution_count": 30,
   "metadata": {
    "collapsed": false
   },
   "outputs": [
    {
     "name": "stdout",
     "output_type": "stream",
     "text": [
      ".\n",
      ".\n",
      ".\n",
      ".\n",
      ".\n",
      ".\n",
      ".\n",
      ".\n",
      ".\n",
      ".\n",
      ".\n",
      ".\n",
      ".\n",
      ".\n",
      ".\n",
      ".\n",
      ".\n",
      ".\n",
      ".\n",
      ".\n",
      ".\n",
      ".\n",
      ".\n",
      ".\n",
      ".\n",
      "Over!\n",
      "{u'err_no': 0, u'corpus_no': u'6524617316000430251', u'err_msg': u'success.', u'result': [u'\\u6253\\u5f00\\u90ae\\u7bb1\\uff0c'], u'sn': u'208086225241519130849'}\n"
     ]
    }
   ],
   "source": [
    "# 0025\n",
    "#encoding=utf-8\n",
    "import wave\n",
    "from pyaudio import PyAudio,paInt16\n",
    "from aip import AipSpeech\n",
    "import win32api\n",
    "\n",
    "framerate=16000\n",
    "NUM_SAMPLES=2000\n",
    "channels=1\n",
    "sampwidth=2\n",
    "TIME=5\n",
    "chunk=2014\n",
    "\n",
    "APP_ID=\"10838516\"\n",
    "API_KEY=\"KQskXIDQaZ8L8kiqgpnKutrg\"\n",
    "SECRET_KEY=\"msFNNbMZs88FdGSjRR06Lu4rj16ya983\"\n",
    "\n",
    "client=AipSpeech(APP_ID,API_KEY,SECRET_KEY)\n",
    "\n",
    "def save_wave_file(filename,data):\n",
    "    '''save the date to the wavfile'''\n",
    "    wf=wave.open(filename,'wb')\n",
    "    wf.setnchannels(channels)\n",
    "    wf.setsampwidth(sampwidth)\n",
    "    wf.setframerate(framerate)\n",
    "    wf.writeframes(b\"\".join(data))\n",
    "    wf.close()\n",
    "\n",
    "def my_record():\n",
    "    pa=PyAudio()\n",
    "    stream=pa.open(format = paInt16,channels=1,\n",
    "                   rate=framerate,input=True,\n",
    "                   frames_per_buffer=NUM_SAMPLES)\n",
    "    my_buf=[]\n",
    "    count=0\n",
    "    while count<TIME*5:#控制录音时间\n",
    "        string_audio_data = stream.read(NUM_SAMPLES)\n",
    "        my_buf.append(string_audio_data)\n",
    "        count+=1\n",
    "        print('.')\n",
    "    save_wave_file('01.wav',my_buf)\n",
    "    stream.close()\n",
    "\n",
    "\n",
    "def play():\n",
    "    wf=wave.open(r\"01.wav\",'rb')\n",
    "    p=PyAudio()\n",
    "    stream=p.open(format=p.get_format_from_width(wf.getsampwidth()),channels=\n",
    "    wf.getnchannels(),rate=wf.getframerate(),output=True)\n",
    "    while True:\n",
    "        data=wf.readframes(chunk)\n",
    "        if data==\"\":break\n",
    "        stream.write(data)\n",
    "    stream.close()\n",
    "    p.terminate()\n",
    "# 读取文件\n",
    "def get_file_content(filePath):\n",
    "    with open(filePath, 'rb') as fp:\n",
    "        return fp.read()\n",
    "    \n",
    "if __name__ == '__main__':\n",
    "    my_record()\n",
    "    print('Over!') \n",
    "    play()\n",
    "    a=client.asr(get_file_content('01.wav'), 'wav', 16000, {'lan': 'zh',})\n",
    "    print a\n",
    "    key=a.get('result')[0]\n",
    "    \n",
    "    if u'百度'in key:\n",
    "        win32api.ShellExecute(0,'open','http://www.baidu.com','','',1)\n",
    "    elif u'邮箱'in key:\n",
    "        win32api.ShellExecute(0,'open','http://mail.126.com','','',1)"
   ]
  },
  {
   "cell_type": "code",
   "execution_count": null,
   "metadata": {
    "collapsed": true
   },
   "outputs": [],
   "source": []
  },
  {
   "cell_type": "code",
   "execution_count": null,
   "metadata": {
    "collapsed": true
   },
   "outputs": [],
   "source": []
  }
 ],
 "metadata": {
  "kernelspec": {
   "display_name": "Python 2",
   "language": "python",
   "name": "python2"
  },
  "language_info": {
   "codemirror_mode": {
    "name": "ipython",
    "version": 2
   },
   "file_extension": ".py",
   "mimetype": "text/x-python",
   "name": "python",
   "nbconvert_exporter": "python",
   "pygments_lexer": "ipython2",
   "version": "2.7.13"
  }
 },
 "nbformat": 4,
 "nbformat_minor": 2
}
