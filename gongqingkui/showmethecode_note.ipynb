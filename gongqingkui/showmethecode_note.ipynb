{
 "cells": [
  {
   "cell_type": "markdown",
   "metadata": {},
   "source": [
    "## show-me-the-code 笔记\n",
    "https://github.com/Yixiaohan/show-me-the-code 是一个python初学练习题集合，每个人从上述地址fork之后编码可以提交自己的代码。我的练习在这里：https://github.com/gongqingkui/python 参阅目前大家提交的代码，做笔记如下\n",
    "#### 0000 头像右上角加上红色的数字\n",
    "一种常见方法，from PIL import Image来读取图片并附加字符。需要定义draw和ImageFont来画图。"
   ]
  },
  {
   "cell_type": "code",
   "execution_count": null,
   "metadata": {
    "collapsed": true
   },
   "outputs": [],
   "source": [
    "from PIL import Image,ImageDraw,ImageFont\n",
    "\n",
    "#add num to image\n",
    "def addnum(image,num):\n",
    "    with Image.open(image) as head:\n",
    "        w,h = head.size\n",
    "        font = ImageFont.truetype('arial.ttf',25)\n",
    "        draw = ImageDraw.Draw(head)\n",
    "        draw.text((0.8*w,0.1*h),str(num),fill=(255,0,0),font=font)\n",
    "        head.save('head2.jpg')\n",
    "\n",
    "if __name__ =='__main__':\n",
    "    addnum('head.jpg',68)"
   ]
  },
  {
   "cell_type": "markdown",
   "metadata": {},
   "source": [
    "####  0001 生成 200 个激活码\n",
    "- 使用random.randint来随机数字，在选择其后的内容。eg. a=string.letters a[random.randint(26)]\n",
    "- random.sample 随机一个样本 eg. random.sample(string.letters,20)\n",
    "- uuid 方法"
   ]
  },
  {
   "cell_type": "code",
   "execution_count": 10,
   "metadata": {
    "collapsed": false
   },
   "outputs": [
    {
     "name": "stdout",
     "output_type": "stream",
     "text": [
      "x\n",
      "['t', 'd', 'J', 'C', 'B', 'X', 'k', 'o', 'S', 'r']\n",
      "0640442e-1bd1-11e8-b041-0024540e01d2\n"
     ]
    }
   ],
   "source": [
    "import string\n",
    "import random\n",
    "import uuid\n",
    "\n",
    "print(string.letters[random.randint(0,54)])\n",
    "print(random.sample(string.letters,10))\n",
    "print(uuid.uuid1())"
   ]
  },
  {
   "cell_type": "markdown",
   "metadata": {},
   "source": [
    "#### 0002激活码存到 MySQL 关系库中\n",
    "用pymsql库，或者sqlalchemy\n",
    "\n",
    "#### 0003 激活码保存到 Redis 非关系型数据库中\n",
    "用redis库\n",
    "\n",
    "#### 0004 统计其中的单词出现的个数\n",
    "- collections.Counter\n",
    "- 正则表达式\n",
    "- 排序 sortedwordlist = sorted(worddict.items(),lambda x,y:cmp(x[1],y[1]),reverse=True)\n",
    "\n",
    "#### 0005 照尺寸变成都不大于 iPhone5 分辨率的大小\n",
    "- 遍历目录 os.walk递归当前目录，glob.glob('*.jpg')遍历文件 ，os.listdir(path)\n",
    "- Image有缩略图方法"
   ]
  },
  {
   "cell_type": "code",
   "execution_count": null,
   "metadata": {
    "collapsed": true
   },
   "outputs": [],
   "source": [
    "import os\n",
    "for root,dirs,files in os.walk('.'):\n",
    "    pass"
   ]
  },
  {
   "cell_type": "markdown",
   "metadata": {},
   "source": [
    "#### 0006 每篇日记最重要的词。\n",
    "- 先用0004题目分析单词，在除去助词，最后分析词频即可。\n",
    "- 字典排序 items=sorted(dicts.itemeritems(),key=lambda d:d[1],reverse=True) 这是根据value值来排序字典\n",
    "\n",
    "#### 0007 统计一下你写过多少行代码。包括空行和注释\n",
    "- 行头判断\n",
    "\n",
    "#### 0008 html正文\n",
    "- BeautifulSoup库\n",
    "- 正则\n",
    "\n",
    "#### 0009 所有a\n",
    "同上\n",
    "\n",
    "#### 0010 验证码\n",
    "- 廖雪峰参考代码写的挺好的\n",
    "\n",
    "#### 0011 屏蔽关键字\n",
    "- 正则表达式\n",
    "\n",
    "\n",
    "#### 0012 屏蔽关键字 \n",
    "- 正则表达式\n",
    "-- 哈\n",
    "\n",
    "#### 0013 爬虫\n",
    "- pyQuery\n",
    "- ulrretrieve\n",
    "\n",
    "#### 0014 0015 0016 0017 0018 0019 xml txt xls转换\n",
    "- eval\n",
    "_student = eval(f.read())\n",
    "- xlwt库\n",
    "- 正则表达式\n",
    "r'\\\"(\\d+)\\\":\\[\\\"(.*?)\\\",(\\d+),(\\d+),(\\d+)\\}'\n",
    "\n",
    "- from lxml import etree\n",
    "\n",
    "#### 0020 通话时长\n",
    "- 正则表达式 re.compile(r'([\\d+)秒').findall(table.cell(i,j).value)\n",
    "\n",
    "#### 0021 加密密码\n",
    "- salt的理解\n",
    "- "
   ]
  },
  {
   "cell_type": "code",
   "execution_count": null,
   "metadata": {
    "collapsed": true
   },
   "outputs": [],
   "source": [
    "def enpass(password,salt=None):\n",
    "    if salt is None:\n",
    "        salt = str(uuid.uuid4())[:4]        \n",
    "    assert 4==len(salt)\n",
    "    return salt+':'+hashlib.sha256(password.encode()+salt.encode()).hexdigest()"
   ]
  },
  {
   "cell_type": "markdown",
   "metadata": {},
   "source": [
    "#### 0022 图片转换程序的通用性\n",
    "- iphonesize = {\"iphone5\":(640,1136),\"iphone6s\":(1125,2000),\"iphone6sp\":(1242,2208)}\n",
    "\n",
    "#### 0023 留言板\n",
    "- flask\n",
    "\n",
    "#### 0024 TodoList\n",
    "- flask\n",
    "\n",
    "#### 0025\n",
    "- 百度音频解析框架from aip import AipSpeech\n",
    "- from pyaudio import PyAudio,paInt16来录音\n",
    "- wave 录音保存为wav文件\n",
    "- 提交wave文件到aip框架，解析出结果\n",
    "- win32api 判断结果 win32api.ShellExecute(0,'open','http://mail.126.com','','',1)打开"
   ]
  }
 ],
 "metadata": {
  "kernelspec": {
   "display_name": "Python 2",
   "language": "python",
   "name": "python2"
  },
  "language_info": {
   "codemirror_mode": {
    "name": "ipython",
    "version": 2
   },
   "file_extension": ".py",
   "mimetype": "text/x-python",
   "name": "python",
   "nbconvert_exporter": "python",
   "pygments_lexer": "ipython2",
   "version": "2.7.13"
  }
 },
 "nbformat": 4,
 "nbformat_minor": 2
}
